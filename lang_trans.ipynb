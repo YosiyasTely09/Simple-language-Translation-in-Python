{
 "cells": [
  {
   "cell_type": "code",
   "execution_count": 1,
   "id": "cd1252db-b38c-46c0-a200-1ccb45d8f61b",
   "metadata": {},
   "outputs": [],
   "source": [
    "from tkinter import *\n",
    "from tkinter import ttk\n",
    "from googletrans import Translator, LANGUAGES"
   ]
  },
  {
   "cell_type": "code",
   "execution_count": 2,
   "id": "82e3a0a5",
   "metadata": {},
   "outputs": [],
   "source": [
    "root =Tk()\n",
    "root.geometry('1100x320')\n",
    "root['bg'] = '#bce8f1'\n",
    "\n",
    "root.title('language Translator by Yosi')\n",
    "Label(root, text = \"Language Translator\", font=\"Arial 20 bold\").pack()\n"
   ]
  },
  {
   "cell_type": "code",
   "execution_count": 3,
   "id": "605cc339",
   "metadata": {},
   "outputs": [],
   "source": [
    "Label(root, text = \"Enter Text\", font=\"Arial 13 bold\", bg='white smoke').place(x=165,y=90)"
   ]
  },
  {
   "cell_type": "code",
   "execution_count": 4,
   "id": "c700ab27",
   "metadata": {},
   "outputs": [
    {
     "data": {
      "text/plain": [
       "''"
      ]
     },
     "execution_count": 4,
     "metadata": {},
     "output_type": "execute_result"
    }
   ],
   "source": [
    "Input_text = Entry(root, width=60)\n",
    "Input_text.place(x = 30,y = 130)\n",
    "Input_text.get()"
   ]
  },
  {
   "cell_type": "code",
   "execution_count": null,
   "id": "916bed28",
   "metadata": {},
   "outputs": [],
   "source": [
    "Label(root, text = \"Output\", font=\"Arial 13 bold\", bg='white smoke').place(x=700,y=90)\n",
    "Output_text = Text(root,font = 'arial 10', height =10, wrap=WORD, padx= 5, width = 50)\n",
    "Output_text.place(x=600, y= 130)\n",
    "\n",
    "language = list(LANGUAGES.values())\n",
    "language.append('oromo')\n",
    "\n",
    "dest_lang = ttk.Combobox(root, values= language, width =22)\n",
    "dest_lang.place(x=130, y=180)\n",
    "dest_lang.set('choose language')\n",
    "\n",
    "def translate():\n",
    "    translator = Translator()\n",
    "    dest_language = dest_lang.get()\n",
    "    if dest_language == 'oromo':\n",
    "        dest_language = 'om'  # Language code for Afaan Oromo\n",
    "    translated = translator.translate(text=Input_text.get(), dest=dest_language)\n",
    "    Output_text.delete(1.0, END)\n",
    "    Output_text.insert(END, translated.text)\n",
    "\n",
    "trans_btn= Button(root,text = 'Translate', font= 'arial 12 bold', pady = 5,command = translate, bg = 'orange', activebackground='green')\n",
    "trans_btn.place(x=445, y = 180)\n",
    "root.mainloop()\n"
   ]
  },
  {
   "cell_type": "code",
   "execution_count": null,
   "id": "1df2aeab",
   "metadata": {},
   "outputs": [],
   "source": []
  }
 ],
 "metadata": {
  "kernelspec": {
   "display_name": "Python 3 (ipykernel)",
   "language": "python",
   "name": "python3"
  },
  "language_info": {
   "codemirror_mode": {
    "name": "ipython",
    "version": 3
   },
   "file_extension": ".py",
   "mimetype": "text/x-python",
   "name": "python",
   "nbconvert_exporter": "python",
   "pygments_lexer": "ipython3",
   "version": "3.11.7"
  }
 },
 "nbformat": 4,
 "nbformat_minor": 5
}
